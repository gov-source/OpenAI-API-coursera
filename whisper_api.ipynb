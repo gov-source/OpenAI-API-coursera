{
 "cells": [
  {
   "cell_type": "code",
   "execution_count": 2,
   "metadata": {},
   "outputs": [
    {
     "name": "stdout",
     "output_type": "stream",
     "text": [
      "Collecting pandas\n",
      "  Obtaining dependency information for pandas from https://files.pythonhosted.org/packages/38/f8/d8fddee9ed0d0c0f4a2132c1dfcf0e3e53265055da8df952a53e7eaf178c/pandas-2.2.3-cp312-cp312-manylinux_2_17_x86_64.manylinux2014_x86_64.whl.metadata\n",
      "  Downloading pandas-2.2.3-cp312-cp312-manylinux_2_17_x86_64.manylinux2014_x86_64.whl.metadata (89 kB)\n",
      "\u001b[2K     \u001b[90m━━━━━━━━━━━━━━━━━━━━━━━━━━━━━━━━━━━━━━━━\u001b[0m \u001b[32m89.9/89.9 kB\u001b[0m \u001b[31m1.1 MB/s\u001b[0m eta \u001b[36m0:00:00\u001b[0mta \u001b[36m0:00:01\u001b[0m\n",
      "\u001b[?25hCollecting numpy>=1.26.0 (from pandas)\n",
      "  Obtaining dependency information for numpy>=1.26.0 from https://files.pythonhosted.org/packages/9e/3e/3757f304c704f2f0294a6b8340fcf2be244038be07da4cccf390fa678a9f/numpy-2.1.3-cp312-cp312-manylinux_2_17_x86_64.manylinux2014_x86_64.whl.metadata\n",
      "  Downloading numpy-2.1.3-cp312-cp312-manylinux_2_17_x86_64.manylinux2014_x86_64.whl.metadata (62 kB)\n",
      "\u001b[2K     \u001b[90m━━━━━━━━━━━━━━━━━━━━━━━━━━━━━━━━━━━━━━━━\u001b[0m \u001b[32m62.0/62.0 kB\u001b[0m \u001b[31m4.1 MB/s\u001b[0m eta \u001b[36m0:00:00\u001b[0m\n",
      "\u001b[?25hRequirement already satisfied: python-dateutil>=2.8.2 in /workspaces/openai/lib/python3.12/site-packages (from pandas) (2.9.0.post0)\n",
      "Collecting pytz>=2020.1 (from pandas)\n",
      "  Obtaining dependency information for pytz>=2020.1 from https://files.pythonhosted.org/packages/11/c3/005fcca25ce078d2cc29fd559379817424e94885510568bc1bc53d7d5846/pytz-2024.2-py2.py3-none-any.whl.metadata\n",
      "  Downloading pytz-2024.2-py2.py3-none-any.whl.metadata (22 kB)\n",
      "Collecting tzdata>=2022.7 (from pandas)\n",
      "  Obtaining dependency information for tzdata>=2022.7 from https://files.pythonhosted.org/packages/a6/ab/7e5f53c3b9d14972843a647d8d7a853969a58aecc7559cb3267302c94774/tzdata-2024.2-py2.py3-none-any.whl.metadata\n",
      "  Downloading tzdata-2024.2-py2.py3-none-any.whl.metadata (1.4 kB)\n",
      "Requirement already satisfied: six>=1.5 in /workspaces/openai/lib/python3.12/site-packages (from python-dateutil>=2.8.2->pandas) (1.16.0)\n",
      "Downloading pandas-2.2.3-cp312-cp312-manylinux_2_17_x86_64.manylinux2014_x86_64.whl (12.7 MB)\n",
      "\u001b[2K   \u001b[90m━━━━━━━━━━━━━━━━━━━━━━━━━━━━━━━━━━━━━━━━\u001b[0m \u001b[32m12.7/12.7 MB\u001b[0m \u001b[31m26.9 MB/s\u001b[0m eta \u001b[36m0:00:00\u001b[0m00:01\u001b[0m00:01\u001b[0m\n",
      "\u001b[?25hDownloading numpy-2.1.3-cp312-cp312-manylinux_2_17_x86_64.manylinux2014_x86_64.whl (16.0 MB)\n",
      "\u001b[2K   \u001b[90m━━━━━━━━━━━━━━━━━━━━━━━━━━━━━━━━━━━━━━━━\u001b[0m \u001b[32m16.0/16.0 MB\u001b[0m \u001b[31m24.9 MB/s\u001b[0m eta \u001b[36m0:00:00\u001b[0m00:01\u001b[0m00:01\u001b[0m\n",
      "\u001b[?25hDownloading pytz-2024.2-py2.py3-none-any.whl (508 kB)\n",
      "\u001b[2K   \u001b[90m━━━━━━━━━━━━━━━━━━━━━━━━━━━━━━━━━━━━━━━━\u001b[0m \u001b[32m508.0/508.0 kB\u001b[0m \u001b[31m42.9 MB/s\u001b[0m eta \u001b[36m0:00:00\u001b[0m\n",
      "\u001b[?25hDownloading tzdata-2024.2-py2.py3-none-any.whl (346 kB)\n",
      "\u001b[2K   \u001b[90m━━━━━━━━━━━━━━━━━━━━━━━━━━━━━━━━━━━━━━━━\u001b[0m \u001b[32m346.6/346.6 kB\u001b[0m \u001b[31m38.2 MB/s\u001b[0m eta \u001b[36m0:00:00\u001b[0m\n",
      "\u001b[?25hInstalling collected packages: pytz, tzdata, numpy, pandas\n",
      "Successfully installed numpy-2.1.3 pandas-2.2.3 pytz-2024.2 tzdata-2024.2\n",
      "\n",
      "\u001b[1m[\u001b[0m\u001b[34;49mnotice\u001b[0m\u001b[1;39;49m]\u001b[0m\u001b[39;49m A new release of pip is available: \u001b[0m\u001b[31;49m23.2.1\u001b[0m\u001b[39;49m -> \u001b[0m\u001b[32;49m24.3.1\u001b[0m\n",
      "\u001b[1m[\u001b[0m\u001b[34;49mnotice\u001b[0m\u001b[1;39;49m]\u001b[0m\u001b[39;49m To update, run: \u001b[0m\u001b[32;49mpip install --upgrade pip\u001b[0m\n"
     ]
    }
   ],
   "source": [
    "!pip install pandas"
   ]
  },
  {
   "cell_type": "code",
   "execution_count": 3,
   "metadata": {},
   "outputs": [],
   "source": [
    "import json, os, openai\n",
    "from openai import AzureOpenAI\n",
    "import pandas as pd"
   ]
  },
  {
   "cell_type": "code",
   "execution_count": 4,
   "metadata": {},
   "outputs": [],
   "source": [
    "from openai import AzureOpenAI\n",
    "client = AzureOpenAI(\n",
    "    api_key=\"51bhlXazVrAP5kzOcdjrjkSlN6f2iki8DMfzu98mHlmFQ0NwLcIkJQQJ99AKACHYHv6XJ3w3AAAAACOGjxGj\",  # Your Azure OpenAI API key\n",
    "    api_version=\"2024-06-01\",  # Use the latest API version\n",
    "    azure_endpoint=\"https://ai-11govindsingh98993450ai079671029018.openai.azure.com/openai/deployments/whisper/audio/translations?api-version=2024-06-01\"  # Your Azure OpenAI endpoint\n",
    ")"
   ]
  },
  {
   "cell_type": "code",
   "execution_count": 27,
   "metadata": {},
   "outputs": [],
   "source": [
    "audio_file = open(r\"/workspaces/Mere Mehboob Mere Sanam - Bad Newz 320 Kbps.mp3\", \"rb\")"
   ]
  },
  {
   "cell_type": "code",
   "execution_count": 28,
   "metadata": {},
   "outputs": [],
   "source": [
    "transcript = client.audio.transcriptions.create(\n",
    "    model = 'whisper',\n",
    "    file = audio_file,\n",
    ")"
   ]
  },
  {
   "cell_type": "code",
   "execution_count": 29,
   "metadata": {},
   "outputs": [
    {
     "name": "stdout",
     "output_type": "stream",
     "text": [
      "When I thought this, when I realized this You will change in this, you won't love me in this You will act like this, you won't love me in this My love, my love, my love, my love Thank you, I am grateful My love, my love, my love, my love Thank you, I am grateful My love, my love, my love, my love You came in my dreams You came in my heart What should I tell you, my love I have come after you My eyes are after you Only you want to fall in love This is not how love talks This is not how love talks I am surprised to hear the talks of the government Talks of agreement or talks of refusal The talks are at least Thank you, I am grateful My love, my love, my love, my love Thank you, I am grateful My love, my love, my love, my love\n"
     ]
    }
   ],
   "source": [
    "print(transcript.text[:1000000])"
   ]
  },
  {
   "cell_type": "code",
   "execution_count": 30,
   "metadata": {},
   "outputs": [],
   "source": [
    "system_prompt = 'You are an advanced AI music analysis expert specializing in Hindi song interpretation. Your task is to provide a nuanced, culturally sensitive summary of the audio track with the following guidelines:'"
   ]
  },
  {
   "cell_type": "code",
   "execution_count": 31,
   "metadata": {},
   "outputs": [],
   "source": [
    "client_gpt = AzureOpenAI(\n",
    "    api_key=\"51bhlXazVrAP5kzOcdjrjkSlN6f2iki8DMfzu98mHlmFQ0NwLcIkJQQJ99AKACHYHv6XJ3w3AAAAACOGjxGj\",  # Your Azure OpenAI API key\n",
    "    api_version=\"2024-08-01-preview\",  # Use the latest API version\n",
    "    azure_endpoint=\"https://ai-11govindsingh98993450ai079671029018.openai.azure.com/openai/deployments/gpt-4/chat/completions?api-version=2024-08-01-preview\"  # Your Azure OpenAI endpoint\n",
    ")"
   ]
  },
  {
   "cell_type": "code",
   "execution_count": 32,
   "metadata": {},
   "outputs": [],
   "source": [
    "response = client_gpt.chat.completions.create(\n",
    "    model='gpt-4',\n",
    "    temperature=0.5,\n",
    "    messages=[\n",
    "        {\n",
    "            'role': 'system',\n",
    "            'content': system_prompt\n",
    "        },\n",
    "        {\n",
    "            'role': 'user',\n",
    "            'content': transcript.text\n",
    "        }\n",
    "        ]\n",
    ")"
   ]
  },
  {
   "cell_type": "code",
   "execution_count": 35,
   "metadata": {},
   "outputs": [
    {
     "name": "stdout",
     "output_type": "stream",
     "text": [
      "The song encapsulates a poignant narrative of love, change, and gratitude. It delves into the emotional turmoil experienced when one senses a change in their loved one's feelings. The repeated lines \"You will change in this, you won't love me in this\" express a fear of transformation in the beloved’s affections, suggesting an anticipation of emotional distance or a shift in the nature of the relationship.\n",
      "\n",
      "The refrain \"My love, my love, my love, my love, Thank you, I am grateful\" is particularly powerful, weaving a complex tapestry of acknowledgment and appreciation despite the perceived changes in the relationship. This repeated expression of gratitude could signify a mature acceptance of the evolving dynamics in love, highlighting a deep-seated respect for the past and whatever the future holds.\n",
      "\n",
      "The imagery of the beloved appearing in dreams and capturing the heart adds a layer of depth, illustrating the profound impact of love on one's life and psyche. The lines \"What should I tell you, my love, I have come after you, My eyes are after you, Only you want to fall in love\" express a deep yearning and a persistent pursuit of the beloved, emphasizing love's power to drive one's actions and desires.\n",
      "\n",
      "Furthermore, the song touches on broader social or possibly political dialogues, as indicated by \"I am surprised to hear the talks of the government, Talks of agreement or talks of refusal.\" This could metaphorically relate to the negotiations and compromises often necessary in relationships, or it might hint at external pressures and societal expectations impacting personal connections.\n",
      "\n",
      "Overall, the song beautifully portrays the complexities of love, blending personal emotions with broader societal contexts, and underscores a profound sense of gratitude that persists despite the challenges and changes inherent in relationships.\n"
     ]
    }
   ],
   "source": [
    "print(response.choices[0].message.content)"
   ]
  }
 ],
 "metadata": {
  "kernelspec": {
   "display_name": "openai",
   "language": "python",
   "name": "python3"
  },
  "language_info": {
   "codemirror_mode": {
    "name": "ipython",
    "version": 3
   },
   "file_extension": ".py",
   "mimetype": "text/x-python",
   "name": "python",
   "nbconvert_exporter": "python",
   "pygments_lexer": "ipython3",
   "version": "3.12.1"
  }
 },
 "nbformat": 4,
 "nbformat_minor": 2
}
