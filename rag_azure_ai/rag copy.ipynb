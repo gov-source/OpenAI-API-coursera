{
 "cells": [
  {
   "cell_type": "code",
   "execution_count": 1,
   "metadata": {},
   "outputs": [
    {
     "data": {
      "text/plain": [
       "True"
      ]
     },
     "execution_count": 1,
     "metadata": {},
     "output_type": "execute_result"
    }
   ],
   "source": [
    "import os\n",
    "import openai\n",
    "from langchain.embeddings import OpenAIEmbeddings\n",
    "from langchain.vectorstores import AzureSearch\n",
    "from dotenv import load_dotenv\n",
    "from os.path import dirname\n",
    "\n",
    "current_dir = os.getcwd()\n",
    "root_dir = os.path.dirname(os.path.dirname(current_dir))\n",
    "env_file = os.path.join(root_dir, '.env')\n",
    "load_dotenv(env_file)\n"
   ]
  },
  {
   "cell_type": "code",
   "execution_count": 3,
   "metadata": {},
   "outputs": [
    {
     "name": "stdout",
     "output_type": "stream",
     "text": [
      "UDShPnJq4TAtmDfa1GojvxnZgg0FPU76rAAK6NYM3VAzSeB0IH3q\n",
      "https://coursera-rag-service.search.windows.net\n",
      "wine-ratings-index-check\n"
     ]
    }
   ],
   "source": [
    "# Verify API Key and Endpoint\n",
    "print(os.getenv(\"SEARCH_API_KEY\"))\n",
    "print(os.getenv(\"SEARCH_SERVICE_NAME\"))\n",
    "print(os.getenv('SEARCH_INDEX_NAME'))"
   ]
  },
  {
   "cell_type": "code",
   "execution_count": 4,
   "metadata": {},
   "outputs": [],
   "source": [
    "embeddings = OpenAIEmbeddings(deployment=\"text-embedding-ada-002\", chunk_size=1)\n",
    "\n",
    "# Connect to Azure AI Search\n",
    "acs = AzureSearch(azure_search_endpoint=os.getenv('SEARCH_SERVICE_NAME'),\n",
    "                 azure_search_key=os.getenv('SEARCH_API_KEY'),\n",
    "                 index_name='wine-ratings-index-check',\n",
    "                 embedding_function=embeddings.embed_query)"
   ]
  },
  {
   "cell_type": "code",
   "execution_count": 5,
   "metadata": {},
   "outputs": [],
   "source": [
    "from langchain.document_loaders import CSVLoader\n",
    "\n",
    "loader = CSVLoader(r\"/workspaces/wine-ratings.csv\")\n",
    "documents = loader.load()"
   ]
  },
  {
   "cell_type": "code",
   "execution_count": 6,
   "metadata": {},
   "outputs": [
    {
     "data": {
      "text/plain": [
       "Document(page_content='name: 1000 Stories Bourbon Barrel Aged Gold Rush Red 2016\\ngrape: \\nregion: California\\nvariety: Red Wine\\nrating: 89.0\\ndescription: The California Gold Rush was a period of courage, bravado and curiosity. It was with these characteristics in mind that we crafted Gold Rush Red. Grapes chosen from the golden hills and valleys of California were blended to create this bold, adventurous testament to that intrepid spirit.\\nid: 1', metadata={'source': '/workspaces/wine-ratings.csv', 'row': 1})"
      ]
     },
     "execution_count": 6,
     "metadata": {},
     "output_type": "execute_result"
    }
   ],
   "source": [
    "from langchain.text_splitter import CharacterTextSplitter\n",
    "text_splitter = CharacterTextSplitter(chunk_size=1000, chunk_overlap=0)\n",
    "docs = text_splitter.split_documents(documents)\n",
    "docs[1]"
   ]
  },
  {
   "cell_type": "code",
   "execution_count": null,
   "metadata": {},
   "outputs": [],
   "source": [
    "acs.add_documents(documents=docs)"
   ]
  },
  {
   "cell_type": "code",
   "execution_count": 6,
   "metadata": {},
   "outputs": [
    {
     "name": "stdout",
     "output_type": "stream",
     "text": [
      "name: Caymus Napa Valley Cabernet Sauvignon 1994\n",
      "grape: \n",
      "region: Napa Valley, California\n",
      "variety: Red Wine\n",
      "rating: 91.0\n",
      "description: #9\n",
      "id: 9176\n",
      "['Config', '__abstractmethods__', '__annotations__', '__class__', '__class_vars__', '__config__', '__custom_root_type__', '__delattr__', '__dict__', '__dir__', '__doc__', '__eq__', '__exclude_fields__', '__fields__', '__fields_set__', '__format__', '__ge__', '__get_validators__', '__getattribute__', '__getstate__', '__gt__', '__hash__', '__include_fields__', '__init__', '__init_subclass__', '__iter__', '__json_encoder__', '__le__', '__lt__', '__module__', '__ne__', '__new__', '__post_root_validators__', '__pre_root_validators__', '__pretty__', '__private_attributes__', '__reduce__', '__reduce_ex__', '__repr__', '__repr_args__', '__repr_name__', '__repr_str__', '__rich_repr__', '__schema_cache__', '__setattr__', '__setstate__', '__signature__', '__sizeof__', '__slots__', '__str__', '__subclasshook__', '__try_update_forward_refs__', '__validators__', '_abc_impl', '_calculate_keys', '_copy_and_set_values', '_decompose_class', '_enforce_dict_if_root', '_get_value', '_init_private_attributes', '_iter', '_lc_kwargs', 'construct', 'copy', 'dict', 'from_orm', 'get_lc_namespace', 'is_lc_serializable', 'json', 'lc_attributes', 'lc_id', 'lc_secrets', 'metadata', 'page_content', 'parse_file', 'parse_obj', 'parse_raw', 'schema', 'schema_json', 'to_json', 'to_json_not_implemented', 'type', 'update_forward_refs', 'validate']\n"
     ]
    }
   ],
   "source": [
    "docs = acs.similarity_search_with_relevance_scores(\n",
    "    query=\"What is the best Cabernet Sauvignon wine in Napa Valley above 94 points\",\n",
    "    k=5,\n",
    ")\n",
    "print(docs[0][0].page_content)\n",
    "print(dir(docs[0][0]))"
   ]
  },
  {
   "cell_type": "code",
   "execution_count": 8,
   "metadata": {},
   "outputs": [
    {
     "name": "stdout",
     "output_type": "stream",
     "text": [
      "<OpenAIObject chat.completion id=chatcmpl-AhrsYmKhFz8X1oo5oieEsK5LqSD7g at 0x758f957d4eb0> JSON: {\n",
      "  \"choices\": [\n",
      "    {\n",
      "      \"content_filter_results\": {\n",
      "        \"hate\": {\n",
      "          \"filtered\": false,\n",
      "          \"severity\": \"safe\"\n",
      "        },\n",
      "        \"protected_material_code\": {\n",
      "          \"filtered\": false,\n",
      "          \"detected\": false\n",
      "        },\n",
      "        \"protected_material_text\": {\n",
      "          \"filtered\": false,\n",
      "          \"detected\": false\n",
      "        },\n",
      "        \"self_harm\": {\n",
      "          \"filtered\": false,\n",
      "          \"severity\": \"safe\"\n",
      "        },\n",
      "        \"sexual\": {\n",
      "          \"filtered\": false,\n",
      "          \"severity\": \"safe\"\n",
      "        },\n",
      "        \"violence\": {\n",
      "          \"filtered\": false,\n",
      "          \"severity\": \"safe\"\n",
      "        }\n",
      "      },\n",
      "      \"finish_reason\": \"stop\",\n",
      "      \"index\": 0,\n",
      "      \"logprobs\": null,\n",
      "      \"message\": {\n",
      "        \"content\": \"Oregon is well-known for its high-quality wines, particularly Pinot Noir. Some highly rated wines in Oregon that have received scores above 92 points include:\\n\\n1. **Domaine Serene Evenstad Reserve Pinot Noir** - Often scores above 92 and is celebrated for its balance, elegance, and complex flavors.\\n   \\n2. **Kosta Browne Pinot Noir** - Known for its rich fruit flavors and smooth texture, Kosta Browne's wines typically receive high ratings.\\n\\n3. **Archery Summit Premier Cuvee** - This wine is recognized for its depth and layering of fruit flavors, often scoring 92 points and above.\\n\\n4. **Sineann \\\"The Beast\\\" Cabernet Sauvignon** - This wine, though a Cabernet, has made waves in the Oregon wine scene with high scores.\\n\\n5. **Rocco's \\\"The No Fear\\\" Pinot Noir** - Known for its bold flavors and smooth finish, it regularly receives accolades above 92 points.\\n\\nTo find the current highest-rated wine, it would be best to check recent reviews or wine competitions, as ratings can change with new vintages.\",\n",
      "        \"role\": \"assistant\"\n",
      "      }\n",
      "    }\n",
      "  ],\n",
      "  \"created\": 1735018578,\n",
      "  \"id\": \"chatcmpl-AhrsYmKhFz8X1oo5oieEsK5LqSD7g\",\n",
      "  \"model\": \"gpt-4o-mini-2024-07-18\",\n",
      "  \"object\": \"chat.completion\",\n",
      "  \"prompt_filter_results\": [\n",
      "    {\n",
      "      \"prompt_index\": 0,\n",
      "      \"content_filter_results\": {\n",
      "        \"hate\": {\n",
      "          \"filtered\": false,\n",
      "          \"severity\": \"safe\"\n",
      "        },\n",
      "        \"jailbreak\": {\n",
      "          \"filtered\": false,\n",
      "          \"detected\": false\n",
      "        },\n",
      "        \"self_harm\": {\n",
      "          \"filtered\": false,\n",
      "          \"severity\": \"safe\"\n",
      "        },\n",
      "        \"sexual\": {\n",
      "          \"filtered\": false,\n",
      "          \"severity\": \"safe\"\n",
      "        },\n",
      "        \"violence\": {\n",
      "          \"filtered\": false,\n",
      "          \"severity\": \"safe\"\n",
      "        }\n",
      "      }\n",
      "    }\n",
      "  ],\n",
      "  \"system_fingerprint\": \"fp_04751d0b65\",\n",
      "  \"usage\": {\n",
      "    \"completion_tokens\": 222,\n",
      "    \"prompt_tokens\": 90,\n",
      "    \"total_tokens\": 312\n",
      "  }\n",
      "}\n",
      "Oregon is well-known for its high-quality wines, particularly Pinot Noir. Some highly rated wines in Oregon that have received scores above 92 points include:\n",
      "\n",
      "1. **Domaine Serene Evenstad Reserve Pinot Noir** - Often scores above 92 and is celebrated for its balance, elegance, and complex flavors.\n",
      "   \n",
      "2. **Kosta Browne Pinot Noir** - Known for its rich fruit flavors and smooth texture, Kosta Browne's wines typically receive high ratings.\n",
      "\n",
      "3. **Archery Summit Premier Cuvee** - This wine is recognized for its depth and layering of fruit flavors, often scoring 92 points and above.\n",
      "\n",
      "4. **Sineann \"The Beast\" Cabernet Sauvignon** - This wine, though a Cabernet, has made waves in the Oregon wine scene with high scores.\n",
      "\n",
      "5. **Rocco's \"The No Fear\" Pinot Noir** - Known for its bold flavors and smooth finish, it regularly receives accolades above 92 points.\n",
      "\n",
      "To find the current highest-rated wine, it would be best to check recent reviews or wine competitions, as ratings can change with new vintages.\n"
     ]
    }
   ],
   "source": [
    "openai.api_base = os.getenv(\"OPENAI_API_BASE\")  # Your Azure OpenAI resource's endpoint value.\n",
    "openai.api_key = os.getenv(\"OPENAI_API_KEY\")\n",
    "openai.api_type = \"azure\"\n",
    "openai.api_version = \"2024-02-15-preview\" \n",
    "messages=[\n",
    "    {\"role\": \"system\", \"content\": \"Asisstant is a chatbot that helps you find the best wine for your taste.\"},\n",
    "    {\"role\": \"user\", \"content\": \"What is the best wine in Oregon above 92 points?\"},\n",
    "    {\"role\": \"assistant\", \"content\": docs[0][0].page_content}\n",
    "]\n",
    "\n",
    "response = openai.ChatCompletion.create(\n",
    "    engine=\"gpt-4o-mini\",\n",
    "    messages=messages,\n",
    ")\n",
    "from pprint import pprint\n",
    "pprint(response)\n",
    "print(response['choices'][0]['message']['content'])"
   ]
  }
 ],
 "metadata": {
  "kernelspec": {
   "display_name": "rag_venv",
   "language": "python",
   "name": "python3"
  },
  "language_info": {
   "codemirror_mode": {
    "name": "ipython",
    "version": 3
   },
   "file_extension": ".py",
   "mimetype": "text/x-python",
   "name": "python",
   "nbconvert_exporter": "python",
   "pygments_lexer": "ipython3",
   "version": "3.12.1"
  }
 },
 "nbformat": 4,
 "nbformat_minor": 2
}
